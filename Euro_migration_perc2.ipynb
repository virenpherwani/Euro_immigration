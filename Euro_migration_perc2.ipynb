{
 "cells": [
  {
   "cell_type": "markdown",
   "metadata": {},
   "source": [
    "### Factors for immigration\n",
    " \n",
    " I'll identify the factors on which immigration depends the most. Will try to identify correlation variables for each "
   ]
  },
  {
   "cell_type": "code",
   "execution_count": 12,
   "metadata": {},
   "outputs": [],
   "source": [
    "import pandas as pd\n",
    "import pprint\n",
    "import csv\n",
    "import matplotlib.pyplot as plt\n",
    "import seaborn as sn\n",
    "from sklearn.linear_model import LinearRegression\n",
    "from sklearn.model_selection import KFold\n",
    "from sklearn.linear_model import Lasso\n",
    "from sklearn.tree import DecisionTreeClassifier\n",
    "from sklearn.naive_bayes import GaussianNB\n",
    "from sklearn.feature_selection import SelectKBest, f_classif, f_regression\n",
    "from sklearn.preprocessing import StandardScaler"
   ]
  },
  {
   "cell_type": "code",
   "execution_count": 2,
   "metadata": {},
   "outputs": [
    {
     "name": "stdout",
     "output_type": "stream",
     "text": [
      "        GEO  Perc_immi  X2018.Mean.fertility.age  X2018.fertility.rate  \\\n",
      "0   Austria   0.011801                      29.5                  1.47   \n",
      "1   Belgium   0.011545                      29.0                  1.62   \n",
      "2  Bulgaria   0.003284                      26.2                  1.56   \n",
      "3   Croatia   0.003136                      28.8                  1.47   \n",
      "4    Cyprus   0.020891                      29.8                  1.32   \n",
      "\n",
      "   Divorce.rate  Divorce.percentage  Median.age  Old.Young.ratio  \\\n",
      "0           1.8                36.0        43.2             27.9   \n",
      "1           2.0                52.0        41.6             29.1   \n",
      "2           1.5                36.4        44.1             32.5   \n",
      "3           1.5                30.8        43.7             30.7   \n",
      "4           2.2                32.8        37.5             23.4   \n",
      "\n",
      "   Child.Adult.ratio  Life.Expectancy  X2019.Educated  Unit_GDP  Unit_divorce  \n",
      "0               34.9             81.8            42.4  0.037560      0.001826  \n",
      "1               42.7             81.7            47.5  0.035093      0.002014  \n",
      "2               35.0             75.0            32.5  0.006374      0.001487  \n",
      "3               37.2             78.2            33.1  0.011235      0.001537  \n",
      "4               38.6             82.9            58.8  0.021762      0.002206  \n"
     ]
    }
   ],
   "source": [
    "# read the csv filtered file which has only the features\n",
    "# corelated to immigration\n",
    "file_name = \"Euro_Perc_Immi.csv\"\n",
    "df_percimmi = pd.read_csv(file_name)\n",
    "pprint.pprint(df_percimmi.head())"
   ]
  },
  {
   "cell_type": "code",
   "execution_count": 3,
   "metadata": {},
   "outputs": [
    {
     "name": "stdout",
     "output_type": "stream",
     "text": [
      "                          Perc_immi  X2018.Mean.fertility.age  \\\n",
      "Perc_immi                  1.000000                  0.449169   \n",
      "X2018.Mean.fertility.age   0.449169                  1.000000   \n",
      "X2018.fertility.rate      -0.240712                 -0.422023   \n",
      "Divorce.rate              -0.201176                 -0.093717   \n",
      "Divorce.percentage        -0.052126                  0.418376   \n",
      "Median.age                -0.507439                  0.036907   \n",
      "Old.Young.ratio           -0.579784                  0.005454   \n",
      "Child.Adult.ratio          0.038727                  0.055458   \n",
      "Life.Expectancy            0.515809                  0.845510   \n",
      "X2019.Educated             0.484194                  0.295436   \n",
      "Unit_GDP                   0.530134                  0.624038   \n",
      "Unit_divorce              -0.225795                 -0.102470   \n",
      "\n",
      "                          X2018.fertility.rate  Divorce.rate  \\\n",
      "Perc_immi                            -0.240712     -0.201176   \n",
      "X2018.Mean.fertility.age             -0.422023     -0.093717   \n",
      "X2018.fertility.rate                  1.000000      0.414077   \n",
      "Divorce.rate                          0.414077      1.000000   \n",
      "Divorce.percentage                    0.054746      0.542456   \n",
      "Median.age                           -0.229224     -0.043484   \n",
      "Old.Young.ratio                      -0.079657      0.109740   \n",
      "Child.Adult.ratio                     0.645292      0.468925   \n",
      "Life.Expectancy                      -0.232646     -0.199335   \n",
      "X2019.Educated                        0.150365      0.473718   \n",
      "Unit_GDP                              0.065219      0.101136   \n",
      "Unit_divorce                          0.411815      0.998576   \n",
      "\n",
      "                          Divorce.percentage  Median.age  Old.Young.ratio  \\\n",
      "Perc_immi                          -0.052126   -0.507439        -0.579784   \n",
      "X2018.Mean.fertility.age            0.418376    0.036907         0.005454   \n",
      "X2018.fertility.rate                0.054746   -0.229224        -0.079657   \n",
      "Divorce.rate                        0.542456   -0.043484         0.109740   \n",
      "Divorce.percentage                  1.000000    0.190817         0.196591   \n",
      "Median.age                          0.190817    1.000000         0.798421   \n",
      "Old.Young.ratio                     0.196591    0.798421         1.000000   \n",
      "Child.Adult.ratio                   0.345530   -0.598084        -0.221394   \n",
      "Life.Expectancy                     0.309116   -0.197250        -0.112675   \n",
      "X2019.Educated                      0.296455   -0.575098        -0.454475   \n",
      "Unit_GDP                            0.429899   -0.128412        -0.334211   \n",
      "Unit_divorce                        0.536617   -0.031384         0.124753   \n",
      "\n",
      "                          Child.Adult.ratio  Life.Expectancy  X2019.Educated  \\\n",
      "Perc_immi                          0.038727         0.515809        0.484194   \n",
      "X2018.Mean.fertility.age           0.055458         0.845510        0.295436   \n",
      "X2018.fertility.rate               0.645292        -0.232646        0.150365   \n",
      "Divorce.rate                       0.468925        -0.199335        0.473718   \n",
      "Divorce.percentage                 0.345530         0.309116        0.296455   \n",
      "Median.age                        -0.598084        -0.197250       -0.575098   \n",
      "Old.Young.ratio                   -0.221394        -0.112675       -0.454475   \n",
      "Child.Adult.ratio                  1.000000         0.264915        0.499801   \n",
      "Life.Expectancy                    0.264915         1.000000        0.403531   \n",
      "X2019.Educated                     0.499801         0.403531        1.000000   \n",
      "Unit_GDP                           0.166067         0.556349        0.561567   \n",
      "Unit_divorce                       0.471880        -0.210027        0.457921   \n",
      "\n",
      "                          Unit_GDP  Unit_divorce  \n",
      "Perc_immi                 0.530134     -0.225795  \n",
      "X2018.Mean.fertility.age  0.624038     -0.102470  \n",
      "X2018.fertility.rate      0.065219      0.411815  \n",
      "Divorce.rate              0.101136      0.998576  \n",
      "Divorce.percentage        0.429899      0.536617  \n",
      "Median.age               -0.128412     -0.031384  \n",
      "Old.Young.ratio          -0.334211      0.124753  \n",
      "Child.Adult.ratio         0.166067      0.471880  \n",
      "Life.Expectancy           0.556349     -0.210027  \n",
      "X2019.Educated            0.561567      0.457921  \n",
      "Unit_GDP                  1.000000      0.081406  \n",
      "Unit_divorce              0.081406      1.000000  \n"
     ]
    }
   ],
   "source": [
    "# Lets get the corelation matrix and print it out\n",
    "# Remove the GEO column from the dataframe\n",
    "df_pi_rmgeo = df_percimmi.drop(columns=['GEO'])\n",
    "# pprint.pprint(df_pi_rmgeo.head())\n",
    "corr_m = df_pi_rmgeo.corr()\n",
    "pprint.pprint(corr_m)"
   ]
  },
  {
   "cell_type": "markdown",
   "metadata": {},
   "source": [
    "## Steps to drop irrelevant variables\n",
    "1. Remove features that are not highly corelated to 'percentage immigration'\n",
    "2. Check if any of the remaining variables are corelated to each other, and remove the one that is less corelated to 'percentage immigration'\n",
    "3. View scatterplot to confirm the remaining features are corelated to 'Percentage Immigration'"
   ]
  },
  {
   "cell_type": "code",
   "execution_count": 4,
   "metadata": {},
   "outputs": [
    {
     "data": {
      "image/png": "[encoded data removed]",
      "text/plain": [
       "<Figure size 432x288 with 2 Axes>"
      ]
     },
     "metadata": {
      "needs_background": "light"
     },
     "output_type": "display_data"
    }
   ],
   "source": [
    "# Lets drop the features that have a corelation value of less than 0.5\n",
    "# Dropping Fertility rate, Divorce rate, Divorce percentage,\n",
    "# Child.Adult ratio and Unit Divorce features\n",
    "\n",
    "df_cor1 = df_pi_rmgeo.drop(columns=[\"X2018.fertility.rate\",\n",
    "                                    \"Divorce.rate\",\n",
    "                                    \"Divorce.percentage\",\n",
    "                                    \"Child.Adult.ratio\",\n",
    "                                    \"Unit_divorce\"])\n",
    "# pprint.pprint(df_cor1.head())\n",
    "# Will create and print the corelation matrix again\n",
    "corr_m = df_cor1.corr()\n",
    "# pprint.pprint(corr_m)\n",
    "\n",
    "# may be easier to view this in a heat map\n",
    "sn.heatmap(corr_m, annot=True)\n",
    "plt.show()"
   ]
  },
  {
   "cell_type": "code",
   "execution_count": 5,
   "metadata": {},
   "outputs": [
    {
     "data": {
      "image/png": "[encoded data removed]",
      "text/plain": [
       "<Figure size 432x288 with 2 Axes>"
      ]
     },
     "metadata": {
      "needs_background": "light"
     },
     "output_type": "display_data"
    }
   ],
   "source": [
    "# The heat map shows a strong corelation between following pair of features\n",
    "# 1. Fertility age and Life Expectancy - 0.85\n",
    "# 2. Fertilty age and Unit GDP - 0.62\n",
    "# 3. Median age and Old to Young ratio.\n",
    "# Lets drop the features 'Fertility Age' and 'Old to Young Ratio'\n",
    "# Then lets replot the matrix\n",
    "\n",
    "df_cor2 = df_cor1.drop(columns=['X2018.Mean.fertility.age', 'Old.Young.ratio'])\n",
    "corr_m2 = df_cor2.corr()\n",
    "\n",
    "sn.heatmap(corr_m2, annot=True)\n",
    "plt.show()"
   ]
  },
  {
   "cell_type": "markdown",
   "metadata": {},
   "source": [
    "## Matrix results\n",
    "\n",
    "The map shows the resulting features that 'Percentage immigration' depends on.\n",
    "They are Unit GDP, Life Expectancy, Percentage of graduates and inversely to median age.\n",
    "Unit GDP is corelated to Life Expectancy and Percentage of graduates. We could \n",
    "drop those features later, but will now let remain.\n",
    "\n",
    "## Linear regression\n",
    "\n",
    "Lets try creating a linear regression model and logistic regression model using these \n",
    "features and check the accuracy\n"
   ]
  },
  {
   "cell_type": "code",
   "execution_count": 6,
   "metadata": {},
   "outputs": [],
   "source": [
    "# Removing NA values from the dataframes before applying linear regression\n",
    "df_cor2 = df_cor2.dropna(axis='index', how='any')"
   ]
  },
  {
   "cell_type": "code",
   "execution_count": 7,
   "metadata": {},
   "outputs": [
    {
     "name": "stdout",
     "output_type": "stream",
     "text": [
      "0    0.011801\n",
      "1    0.011545\n",
      "2    0.003284\n",
      "3    0.003136\n",
      "4    0.020891\n",
      "Name: Perc_immi, dtype: float64\n",
      "   Median.age  Life.Expectancy  X2019.Educated  Unit_GDP\n",
      "0        43.2             81.8            42.4  0.037560\n",
      "1        41.6             81.7            47.5  0.035093\n",
      "2        44.1             75.0            32.5  0.006374\n",
      "3        43.7             78.2            33.1  0.011235\n",
      "4        37.5             82.9            58.8  0.021762\n",
      "array([-1.14415731e-03,  4.45524249e-04, -1.25195611e-05,  1.56383513e-01])\n",
      "0.018166639880432732\n"
     ]
    }
   ],
   "source": [
    "lr = LinearRegression()\n",
    "reg_y = df_cor2.iloc[:, 0]\n",
    "reg_x = df_cor2.iloc[:, 1:5]\n",
    "pprint.pprint(reg_y.head())\n",
    "pprint.pprint(reg_x.head())\n",
    "lr.fit(reg_x, reg_y)\n",
    "pprint.pprint(lr.coef_)\n",
    "pprint.pprint(lr.intercept_)"
   ]
  },
  {
   "cell_type": "markdown",
   "metadata": {},
   "source": [
    "# Testing\n",
    "\n",
    "Lets test by using Kfold to split the data and test check the accuracy - r2 value\n",
    "for the different sets of data\n"
   ]
  },
  {
   "cell_type": "code",
   "execution_count": 8,
   "metadata": {},
   "outputs": [],
   "source": [
    "# Create a function to create test and training sets using Kfold\n",
    "def KFoldTest(x_df, y_df, type='LR') :\n",
    "    norm_scale = StandardScaler()\n",
    "    norm_x = norm_scale.fit_transform(x_df)\n",
    "    norm_x.shape = x_df.shape\n",
    "    norm_x_frame = pd.DataFrame(data=norm_x, columns=x_df.columns)\n",
    "\n",
    "    Kf = KFold(n_splits=7, shuffle=True)\n",
    "    score_arr = []\n",
    "    for train_indices, test_indices in Kf.split(x_df, y_df) :\n",
    "        train_x_df = norm_x_frame.iloc[train_indices]\n",
    "        train_y_df = y_df.iloc[train_indices]\n",
    "        test_x_df = norm_x_frame.iloc[test_indices]\n",
    "        test_y_df = y_df.iloc[test_indices]\n",
    "    \n",
    "    # Create a linear regression on the training data. \n",
    "    # Will test it on the test data.\n",
    "        if type == 'LS' :\n",
    "            test_lr = Lasso()\n",
    "        elif type == 'DTC' :\n",
    "            test_lr = DecisionTreeClassifier()\n",
    "        elif type == 'NB' :\n",
    "            test_lr = GaussianNB()\n",
    "        else :\n",
    "            test_lr = LinearRegression()\n",
    "# pprint.pprint(train_x_df.head())\n",
    "# pprint.pprint(train_y_df.head())\n",
    "        test_lr.fit(train_x_df, train_y_df)\n",
    "        score_arr.append(test_lr.score(test_x_df, test_y_df))\n",
    "        \n",
    "    return (score_arr)"
   ]
  },
  {
   "cell_type": "code",
   "execution_count": 9,
   "metadata": {},
   "outputs": [
    {
     "name": "stdout",
     "output_type": "stream",
     "text": [
      "'Normalized matrix'\n",
      "   Median.age  Life.Expectancy  X2019.Educated  Unit_GDP\n",
      "0        43.2             81.8            42.4  0.037560\n",
      "1        41.6             81.7            47.5  0.035093\n",
      "2        44.1             75.0            32.5  0.006374\n",
      "3        43.7             78.2            33.1  0.011235\n",
      "4        37.5             82.9            58.8  0.021762\n",
      "[-0.060622425616631004, 0.356098656702757, -1.3087068148146939, 0.786762295752472, 0.20716411955931568, 0.38465026443214356, -8.471307337953375]\n",
      "[-1.2803995056335356, 0.1915722106184372, -2.1340459397837215, -0.09228467680623043, 0.6182730209822025, 0.4869040111185289, -0.3986005966117352]\n"
     ]
    }
   ],
   "source": [
    "# Call the KFold test\n",
    "pprint.pprint(\"Normalized matrix\")\n",
    "pprint.pprint(reg_x.head())\n",
    "scores_lr = KFoldTest(reg_x, reg_y)\n",
    "\n",
    "# Lets drop columns Life Expectancy and Percentage of graduates.\n",
    "# Want to check if that results in more consistent results\n",
    "\n",
    "reg_x2 = reg_x.loc[:, ['Median.age', 'Unit_GDP']]\n",
    "\n",
    "# Call the KFold test for the new frame\n",
    "\n",
    "scores_lr2 = KFoldTest(reg_x2, reg_y)\n",
    "\n",
    "print(scores_lr)\n",
    "print(scores_lr2)"
   ]
  },
  {
   "cell_type": "code",
   "execution_count": 10,
   "metadata": {},
   "outputs": [
    {
     "name": "stdout",
     "output_type": "stream",
     "text": [
      "Lasso Regression [-0.743827270082134, 0.29396658398695563, -3.7238086434060342, 0.7394094894827616, -0.06911697620575441, -0.3549285110731464, -1.5328092679272163]\n"
     ]
    }
   ],
   "source": [
    "# The results after dropping these two variables are not very different.\n",
    "# Lets check the success of 2 other algorithms for this data\n",
    "\n",
    "# First we multiply y by 100000 for logistic regression to work\n",
    "# Also we change y to int.\n",
    "\n",
    "reg_y = reg_y * 100000\n",
    "reg_y = reg_y.astype(int)\n",
    "\n",
    "scores_nb = KFoldTest(reg_x, reg_y, type='LS')\n",
    "print(\"Lasso Regression\", scores_nb)\n",
    "\n",
    "# scores_dtc = KFoldTest(reg_x, reg_y, type='NB')\n",
    "# print(\"Gaussian NB\", scores_dtc)"
   ]
  },
  {
   "cell_type": "markdown",
   "metadata": {},
   "source": [
    "## Analysis\n",
    "\n",
    "Since regression values do not provide the required accuracy over all tries\n",
    "will step back and check if other methods provide a better choice of features \n",
    "to work with."
   ]
  },
  {
   "cell_type": "code",
   "execution_count": 11,
   "metadata": {},
   "outputs": [
    {
     "name": "stdout",
     "output_type": "stream",
     "text": [
      "array([7.07927412e+00, 2.91093038e+00, 1.01581449e+00, 6.53875766e-02,\n",
      "       1.17900452e+01, 1.00311458e+01, 1.09314052e-02, 8.54551993e+00,\n",
      "       7.15693176e+00, 1.54851769e+01, 1.29677275e+00])\n",
      "   X2018.Mean.fertility.age  X2018.fertility.rate  Divorce.rate  \\\n",
      "0                      29.5                  1.47           1.8   \n",
      "1                      29.0                  1.62           2.0   \n",
      "2                      26.2                  1.56           1.5   \n",
      "3                      28.8                  1.47           1.5   \n",
      "4                      29.8                  1.32           2.2   \n",
      "\n",
      "   Divorce.percentage  Median.age  Old.Young.ratio  Child.Adult.ratio  \\\n",
      "0                36.0        43.2             27.9               34.9   \n",
      "1                52.0        41.6             29.1               42.7   \n",
      "2                36.4        44.1             32.5               35.0   \n",
      "3                30.8        43.7             30.7               37.2   \n",
      "4                32.8        37.5             23.4               38.6   \n",
      "\n",
      "   Life.Expectancy  X2019.Educated  Unit_GDP  Unit_divorce  \n",
      "0             81.8            42.4  0.037560      0.001826  \n",
      "1             81.7            47.5  0.035093      0.002014  \n",
      "2             75.0            32.5  0.006374      0.001487  \n",
      "3             78.2            33.1  0.011235      0.001537  \n",
      "4             82.9            58.8  0.021762      0.002206  \n"
     ]
    }
   ],
   "source": [
    "# Removing NA values from the dataframes before applying linear regression\n",
    "df_percimmi = df_percimmi.dropna(axis='index', how='any')\n",
    "\n",
    "# Run the SelectKBest function to get the best parameters\n",
    "best_3 = SelectKBest(f_regression, k=11)\n",
    "cnd_best_x = df_percimmi.iloc[:, 2:13]\n",
    "cnd_best_y = df_percimmi.iloc[:, 1]\n",
    "# pprint.pprint(cnd_best_x.head())\n",
    "# pprint.pprint(cnd_best_y.head())\n",
    "best_3.fit(cnd_best_x, cnd_best_y)\n",
    "bool_mask = best_3.get_support()\n",
    "# pprint.pprint(bool_mask)\n",
    "params = best_3.scores_\n",
    "pprint.pprint(params)\n",
    "best_x = cnd_best_x.loc[:, bool_mask]\n",
    "pprint.pprint(best_x.head())"
   ]
  },
  {
   "cell_type": "markdown",
   "metadata": {},
   "source": [
    "# Comment\n",
    "The results obtained by using SelectKBest are the same as those obtained by using corelation.\n",
    "The immigration factors are relevant. However, linear regression does not provide accurate results.\n",
    "Also, regression is not needed, since the goal was to identify features relevant to immigration.\n",
    "\n",
    "Checking scores from SelectKBest, the relevant top 6 features in order of priority are\n",
    "1. Unit GDP\n",
    "2. Median Age\n",
    "3. Old to young ratio\n",
    "4. Life Expectancy\n",
    "5. Education - Percentage of graduates\n",
    "6. Mean Fertility age"
   ]
  }
 ],
 "metadata": {
  "kernelspec": {
   "display_name": "Python 3",
   "language": "python",
   "name": "python3"
  },
  "language_info": {
   "codemirror_mode": {
    "name": "ipython",
    "version": 3
   },
   "file_extension": ".py",
   "mimetype": "text/x-python",
   "name": "python",
   "nbconvert_exporter": "python",
   "pygments_lexer": "ipython3",
   "version": "3.8.3"
  }
 },
 "nbformat": 4,
 "nbformat_minor": 4
}
